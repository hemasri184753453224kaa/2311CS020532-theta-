{
 "cells": [
  {
   "cell_type": "code",
   "execution_count": 2,
   "id": "fcb44a3a-ed8c-4b4a-891c-27ce2277b41c",
   "metadata": {},
   "outputs": [
    {
     "name": "stdout",
     "output_type": "stream",
     "text": [
      "First 5 rows of the dataset:\n",
      "         Date Product Region    Sales  Profit  Quantity\n",
      "0  2023-01-02  Tablet   East  1061.81  236.12         7\n",
      "1  2023-01-06  Laptop  North  1926.07  246.34         8\n",
      "2  2023-01-03  Tablet   East  1597.99  253.17         3\n",
      "3  2023-01-20  Tablet  North  1397.99  242.23         1\n",
      "4  2023-01-04  Laptop   West   734.03  140.36         4\n",
      "\n",
      "Basic statistics of numerical columns:\n",
      "             Sales      Profit   Quantity\n",
      "count    20.000000   20.000000  20.000000\n",
      "mean   1186.553000  211.533000   5.050000\n",
      "std     461.528444   66.916251   2.543826\n",
      "min     530.880000   82.160000   1.000000\n",
      "25%     774.517500  166.515000   2.750000\n",
      "50%    1104.865000  214.670000   5.000000\n",
      "75%    1571.080000  248.047500   7.250000\n",
      "max    1954.860000  364.970000   9.000000\n",
      "\n",
      "Mean of numerical columns:\n",
      "Sales       1186.553\n",
      "Profit       211.533\n",
      "Quantity       5.050\n",
      "dtype: float64\n",
      "\n",
      "Median of numerical columns:\n",
      "Sales       1104.865\n",
      "Profit       214.670\n",
      "Quantity       5.000\n",
      "dtype: float64\n",
      "\n",
      "Minimum values of numerical columns:\n",
      "Sales       530.88\n",
      "Profit       82.16\n",
      "Quantity      1.00\n",
      "dtype: float64\n",
      "\n",
      "Maximum values of numerical columns:\n",
      "Sales       1954.86\n",
      "Profit       364.97\n",
      "Quantity       9.00\n",
      "dtype: float64\n"
     ]
    }
   ],
   "source": [
    "import pandas as pd\n",
    "\n",
    "# Load the CSV file using Pandas\n",
    "sales_data = pd.read_csv(\"Day_7_sales_data (1).csv\")\n",
    "\n",
    "# Display the first 5 rows of the dataset\n",
    "print(\"First 5 rows of the dataset:\")\n",
    "print(sales_data.head())\n",
    "\n",
    "# Display basic statistics of numerical columns using describe()\n",
    "print(\"\\nBasic statistics of numerical columns:\")\n",
    "print(sales_data.describe())\n",
    "\n",
    "# Mean, Median, Min, and Max statistics\n",
    "print(\"\\nMean of numerical columns:\")\n",
    "print(sales_data.mean(numeric_only=True))\n",
    "\n",
    "print(\"\\nMedian of numerical columns:\")\n",
    "print(sales_data.median(numeric_only=True))\n",
    "\n",
    "print(\"\\nMinimum values of numerical columns:\")\n",
    "print(sales_data.min(numeric_only=True))\n",
    "\n",
    "print(\"\\nMaximum values of numerical columns:\")\n",
    "print(sales_data.max(numeric_only=True))"
   ]
  },
  {
   "cell_type": "code",
   "execution_count": null,
   "id": "8d21767d-92b5-4966-80ab-f470496bcf24",
   "metadata": {},
   "outputs": [],
   "source": []
  }
 ],
 "metadata": {
  "kernelspec": {
   "display_name": "Python 3 (ipykernel)",
   "language": "python",
   "name": "python3"
  },
  "language_info": {
   "codemirror_mode": {
    "name": "ipython",
    "version": 3
   },
   "file_extension": ".py",
   "mimetype": "text/x-python",
   "name": "python",
   "nbconvert_exporter": "python",
   "pygments_lexer": "ipython3",
   "version": "3.12.4"
  }
 },
 "nbformat": 4,
 "nbformat_minor": 5
}
