{
  "nbformat": 4,
  "nbformat_minor": 0,
  "metadata": {
    "colab": {
      "provenance": [],
      "authorship_tag": "ABX9TyMYy0fw1LgCVdm9nDB0ae4n",
      "include_colab_link": true
    },
    "kernelspec": {
      "name": "python3",
      "display_name": "Python 3"
    },
    "language_info": {
      "name": "python"
    }
  },
  "cells": [
    {
      "cell_type": "markdown",
      "metadata": {
        "id": "view-in-github",
        "colab_type": "text"
      },
      "source": [
        "<a href=\"https://colab.research.google.com/github/hemasri184753453224kaa/2311CS020532-theta-/blob/main/SVR.ipynb\" target=\"_parent\"><img src=\"https://colab.research.google.com/assets/colab-badge.svg\" alt=\"Open In Colab\"/></a>"
      ]
    },
    {
      "cell_type": "code",
      "execution_count": null,
      "metadata": {
        "colab": {
          "base_uri": "https://localhost:8080/"
        },
        "id": "pkKw-jWXB2Is",
        "outputId": "bfa21bae-ba0e-40c3-8f92-2512d4f0ae10"
      },
      "outputs": [
        {
          "output_type": "stream",
          "name": "stdout",
          "text": [
            "   Pregnancies  Glucose  BloodPresure  SkinThickness  Insulin   BMI  \\\n",
            "0            6      148            72             35        0  33.6   \n",
            "1            1       85            66             29        0  26.6   \n",
            "2            8      183            64              0        0  23.3   \n",
            "3            1       89            66             23       94  28.1   \n",
            "4            0      137            40             35      168  43.1   \n",
            "\n",
            "   DiabetesPedigreeFunction  Age  Outcome  \n",
            "0                     0.627   50        1  \n",
            "1                     0.351   31        0  \n",
            "2                     0.672   32        1  \n",
            "3                     0.167   21        0  \n",
            "4                     2.288   33        1  \n",
            "   Pregnancies  Glucose  BloodPresure  SkinThickness  Insulin   BMI  \\\n",
            "0            6      148            72             35        0  33.6   \n",
            "1            1       85            66             29        0  26.6   \n",
            "2            8      183            64              0        0  23.3   \n",
            "3            1       89            66             23       94  28.1   \n",
            "4            0      137            40             35      168  43.1   \n",
            "\n",
            "   DiabetesPedigreeFunction  Age  Outcome  \n",
            "0                     0.627   50        1  \n",
            "1                     0.351   31        0  \n",
            "2                     0.672   32        1  \n",
            "3                     0.167   21        0  \n",
            "4                     2.288   33        1  \n"
          ]
        }
      ],
      "source": [
        "import pandas as pd\n",
        "import numpy as np\n",
        "from sklearn.model_selection import train_test_split\n",
        "from sklearn.svm import SVR\n",
        "from sklearn.metrics import mean_squared_error\n",
        "from sklearn.model_selection import GridSearchCV\n",
        "file_path=r'/content/pima-indians-diabetes.data.csv'\n",
        "column_name= ['Pregnancies','Glucose','BloodPresure','SkinThickness','Insulin','BMI','DiabetesPedigreeFunction','Age','Outcome']\n",
        "data = pd.read_csv(file_path,header=None,names=column_name)\n",
        "print(data.head())\n",
        "x=data.drop('Outcome',axis=1)\n",
        "y=data['Outcome']\n",
        "x_train, x_test, y_train, y_test = train_test_split(x,y,test_size=0.2,random_state=42)\n",
        "svr=SVR()\n",
        "param_grid = {\n",
        "    'C':[0.1, 1, 10],\n",
        "    'gamma':[0.01, 0.1, 1],\n",
        "    'kernel':['linear','rbf']\n",
        "}\n",
        "grid_search=GridSearchCV(estimator=svr,param_grid=param_grid,cv=5,scoring='neg_mean_squared_error')\n",
        "grid_search.fit(x_train,y_train)\n",
        "best_model = grid_search.best_estimator_\n",
        "y_pred = best_model.predict(x_test)\n",
        "mse = mean_squared_error(y_test,y_pred)\n",
        "print(\"Mean Squared Error on test set:\", mse)\n",
        "\n",
        "y_pred = best_model.predict(x_test)\n",
        "mse = mean_squared_error(y_test,y_pred)\n",
        "print(\"Mean Squared Error on test set:\", mse)"
      ]
    },
    {
      "cell_type": "code",
      "source": [],
      "metadata": {
        "id": "EMo6HvyLD9C9"
      },
      "execution_count": null,
      "outputs": []
    }
  ]
}