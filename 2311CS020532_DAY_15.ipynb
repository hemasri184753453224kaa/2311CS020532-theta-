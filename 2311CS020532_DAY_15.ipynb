{
  "nbformat": 4,
  "nbformat_minor": 0,
  "metadata": {
    "colab": {
      "provenance": []
    },
    "kernelspec": {
      "name": "python3",
      "display_name": "Python 3"
    },
    "language_info": {
      "name": "python"
    }
  },
  "cells": [
    {
      "cell_type": "code",
      "execution_count": 1,
      "metadata": {
        "colab": {
          "base_uri": "https://localhost:8080/",
          "height": 790
        },
        "id": "vPJ9FIxGMCQ6",
        "outputId": "a9aef9aa-bd70-4901-e28b-6d492588b846"
      },
      "outputs": [
        {
          "output_type": "stream",
          "name": "stdout",
          "text": [
            "Outliers based on Box Plot criteria:\n",
            "         value\n",
            "100  10.117476\n",
            "101   8.092543\n",
            "102   9.077091\n",
            "103  10.469751\n",
            "104   9.855633\n",
            "105   9.599862\n",
            "106   9.704016\n",
            "107  10.848209\n",
            "108  10.706830\n",
            "109   9.212731\n"
          ]
        },
        {
          "output_type": "execute_result",
          "data": {
            "text/plain": [
              "Text(0.5, 1.0, 'Box Plot')"
            ]
          },
          "metadata": {},
          "execution_count": 1
        },
        {
          "output_type": "display_data",
          "data": {
            "text/plain": [
              "<Figure size 1200x600 with 1 Axes>"
            ],
            "image/png": "[encoded data removed]"
          },
          "metadata": {}
        }
      ],
      "source": [
        "import pandas as pd\n",
        "import numpy as np\n",
        "import matplotlib.pyplot as plt\n",
        "import seaborn as sns\n",
        "np.random.seed(10)\n",
        "data = pd.DataFrame({\n",
        "    'value': np.concatenate([np.random.normal(0,1,100), np.random.normal(10,1,10)])\n",
        "})\n",
        "Q1 = data['value'].quantile(0.25)\n",
        "Q3 = data['value'].quantile(0.75)\n",
        "IQR = Q3 - Q1\n",
        "lower_bound = Q1 - 1.5 * IQR\n",
        "upper_bound = Q3 + 1.5 * IQR\n",
        "outliers = data[(data['value'] < lower_bound) | (data['value'] > upper_bound)]\n",
        "print(f\"Outliers based on Box Plot criteria:\\n{outliers}\")\n",
        "# Create a box plot and violin plot to visualize the data and outliers\n",
        "plt.figure(figsize=(12, 6))\n",
        "# Box plot\n",
        "plt.subplot(1, 2, 1)\n",
        "sns.boxplot(x=data['value'])\n",
        "plt.title('Box Plot')"
      ]
    }
  ]
}